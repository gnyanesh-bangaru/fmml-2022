{
  "nbformat": 4,
  "nbformat_minor": 0,
  "metadata": {
    "colab": {
      "name": "Day_06.ipynb",
      "provenance": [],
      "authorship_tag": "ABX9TyMYZpEwK7pj79m92FMsWATr",
      "include_colab_link": true
    },
    "kernelspec": {
      "name": "python3",
      "display_name": "Python 3"
    },
    "language_info": {
      "name": "python"
    }
  },
  "cells": [
    {
      "cell_type": "markdown",
      "metadata": {
        "id": "view-in-github",
        "colab_type": "text"
      },
      "source": [
        "<a href=\"https://colab.research.google.com/github/ckraju/fmml-jan-/blob/main/Day_06.ipynb\" target=\"_parent\"><img src=\"https://colab.research.google.com/assets/colab-badge.svg\" alt=\"Open In Colab\"/></a>"
      ]
    },
    {
      "cell_type": "code",
      "execution_count": null,
      "metadata": {
        "id": "-LJTqXeok2y1"
      },
      "outputs": [],
      "source": [
        "import numpy as np\n",
        "import cv2 as cv\n",
        "from matplotlib import pyplot as plt\n",
        "from google.colab import files"
      ]
    },
    {
      "cell_type": "code",
      "source": [
        "files.upload()"
      ],
      "metadata": {
        "id": "xJCwTKOSqvPg"
      },
      "execution_count": null,
      "outputs": []
    },
    {
      "cell_type": "code",
      "source": [
        "samples = np.linspace(1, 7, 200)"
      ],
      "metadata": {
        "id": "7d8iM4zynQ5U"
      },
      "execution_count": null,
      "outputs": []
    },
    {
      "cell_type": "code",
      "source": [
        "plt.plot(np.sin(samples))\n",
        "plt.plot(np.cos(samples))\n",
        "plt.savefig('sincos.png')"
      ],
      "metadata": {
        "id": "eotsPCcMncVk"
      },
      "execution_count": null,
      "outputs": []
    },
    {
      "cell_type": "code",
      "source": [
        "raw_image = cv.imread('badhu.jpg', 1)"
      ],
      "metadata": {
        "id": "6IjFTeLlodR-"
      },
      "execution_count": null,
      "outputs": []
    },
    {
      "cell_type": "code",
      "source": [
        "vertically_stacked_image = np.vstack((raw_image, raw_image))"
      ],
      "metadata": {
        "id": "hCJSlZJ8o8rU"
      },
      "execution_count": null,
      "outputs": []
    },
    {
      "cell_type": "code",
      "source": [
        "plt.imshow(vertically_stacked_image);\n",
        "cv.imwrite('vertically_stacked_image.png', vertically_stacked_image)"
      ],
      "metadata": {
        "id": "EwfY9m2_oqvt"
      },
      "execution_count": null,
      "outputs": []
    },
    {
      "cell_type": "code",
      "source": [
        "horizontally_stacked_image = np.hstack((vertically_stacked_image, vertically_stacked_image))"
      ],
      "metadata": {
        "id": "S29kmJeCqPvI"
      },
      "execution_count": null,
      "outputs": []
    },
    {
      "cell_type": "code",
      "source": [
        "cv.imwrite('horizontally_stacked_image.png', horizontally_stacked_image)"
      ],
      "metadata": {
        "id": "ve6dBquRqaS_"
      },
      "execution_count": null,
      "outputs": []
    },
    {
      "cell_type": "code",
      "source": [
        ""
      ],
      "metadata": {
        "id": "a7yIhXo5qaLO"
      },
      "execution_count": null,
      "outputs": []
    }
  ]
}
