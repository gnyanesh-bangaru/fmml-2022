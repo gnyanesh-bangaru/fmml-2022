{
  "nbformat": 4,
  "nbformat_minor": 0,
  "metadata": {
    "colab": {
      "name": "Day_05.ipynb",
      "provenance": [],
      "authorship_tag": "ABX9TyNy/3D3OeEtG9rKwbXVrezh",
      "include_colab_link": true
    },
    "kernelspec": {
      "name": "python3",
      "display_name": "Python 3"
    },
    "language_info": {
      "name": "python"
    }
  },
  "cells": [
    {
      "cell_type": "markdown",
      "metadata": {
        "id": "view-in-github",
        "colab_type": "text"
      },
      "source": [
        "<a href=\"https://colab.research.google.com/github/ckraju/fmml-jan-/blob/main/Day_05.ipynb\" target=\"_parent\"><img src=\"https://colab.research.google.com/assets/colab-badge.svg\" alt=\"Open In Colab\"/></a>"
      ]
    },
    {
      "cell_type": "code",
      "execution_count": null,
      "metadata": {
        "id": "RbvpBJQMRVFL"
      },
      "outputs": [],
      "source": [
        "import numpy as np\n",
        "import matplotlib.pyplot as plt"
      ]
    },
    {
      "cell_type": "code",
      "source": [
        "import cv2 as cv"
      ],
      "metadata": {
        "id": "5K2ZC8oARyrO"
      },
      "execution_count": null,
      "outputs": []
    },
    {
      "cell_type": "code",
      "source": [
        "from google.colab import files"
      ],
      "metadata": {
        "id": "i-c5sqvnRnG2"
      },
      "execution_count": null,
      "outputs": []
    },
    {
      "cell_type": "code",
      "source": [
        "files.upload()"
      ],
      "metadata": {
        "id": "GusnFBdiTX2s"
      },
      "execution_count": null,
      "outputs": []
    },
    {
      "cell_type": "code",
      "source": [
        "orig_image = cv.imread('blur-mechanism.png', 0)"
      ],
      "metadata": {
        "id": "GPCmQR8BTu7f"
      },
      "execution_count": null,
      "outputs": []
    },
    {
      "cell_type": "code",
      "source": [
        "orig_image.shape"
      ],
      "metadata": {
        "id": "5rSm7DTYT-od"
      },
      "execution_count": null,
      "outputs": []
    },
    {
      "cell_type": "code",
      "source": [
        "cv.imwrite('gray-blur.png', orig_image)"
      ],
      "metadata": {
        "id": "zqCo6LdTUjd8"
      },
      "execution_count": null,
      "outputs": []
    },
    {
      "cell_type": "code",
      "source": [
        "plt.imshow(orig_image)"
      ],
      "metadata": {
        "id": "PPhuTBsBUPsr"
      },
      "execution_count": null,
      "outputs": []
    },
    {
      "cell_type": "code",
      "source": [
        "portion_image = orig_image[190:290, 250:350]"
      ],
      "metadata": {
        "id": "nUSaHgH0VLLS"
      },
      "execution_count": null,
      "outputs": []
    },
    {
      "cell_type": "code",
      "source": [
        "plt.imshow(portion_image)"
      ],
      "metadata": {
        "id": "O6d-0ct2VkvL"
      },
      "execution_count": null,
      "outputs": []
    },
    {
      "cell_type": "code",
      "source": [
        "blurred_image = cv.blur(portion_image, (10, 10))"
      ],
      "metadata": {
        "id": "5Vh_9AY1WBsT"
      },
      "execution_count": null,
      "outputs": []
    },
    {
      "cell_type": "code",
      "source": [
        "plt.imshow(blurred_image)"
      ],
      "metadata": {
        "id": "gSjmNBo_WUC5"
      },
      "execution_count": null,
      "outputs": []
    },
    {
      "cell_type": "code",
      "source": [
        "blurred_image.shape"
      ],
      "metadata": {
        "id": "tWlJ9oI4W37R"
      },
      "execution_count": null,
      "outputs": []
    },
    {
      "cell_type": "code",
      "source": [
        "orig_image[190:290, 250:350] = blurred_image"
      ],
      "metadata": {
        "id": "-Jwvk5oCWtYB"
      },
      "execution_count": null,
      "outputs": []
    },
    {
      "cell_type": "code",
      "source": [
        "plt.imshow(orig_image)"
      ],
      "metadata": {
        "id": "Jtq7zkf9XFNv"
      },
      "execution_count": null,
      "outputs": []
    },
    {
      "cell_type": "code",
      "source": [
        "cv.imwrite('blurred_image.png', orig_image)"
      ],
      "metadata": {
        "id": "n5JWBJ1zXU15"
      },
      "execution_count": null,
      "outputs": []
    }
  ]
}
